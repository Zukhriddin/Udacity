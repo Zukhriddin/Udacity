{
 "cells": [
  {
   "cell_type": "markdown",
   "id": "7eba9a75",
   "metadata": {},
   "source": [
    "# Title: WeRateDogs twitters: What kind of Dogs and Why?"
   ]
  },
  {
   "cell_type": "markdown",
   "id": "41e8c940",
   "metadata": {},
   "source": [
    "### To DO \n",
    "- Create a 250-word-minimum written report called act_report.pdf or act_report.html that communicates all the insights and displays the visualization(s) produced from your wrangled data. This is to be framed as an external document, like a blog post or magazine article, for example."
   ]
  },
  {
   "cell_type": "code",
   "execution_count": 2,
   "id": "c14f582d",
   "metadata": {},
   "outputs": [
    {
     "ename": "SyntaxError",
     "evalue": "invalid syntax (925030551.py, line 1)",
     "output_type": "error",
     "traceback": [
      "\u001b[1;36m  Input \u001b[1;32mIn [2]\u001b[1;36m\u001b[0m\n\u001b[1;33m    <img src=\"../insight_1.png\" />\u001b[0m\n\u001b[1;37m    ^\u001b[0m\n\u001b[1;31mSyntaxError\u001b[0m\u001b[1;31m:\u001b[0m invalid syntax\n"
     ]
    }
   ],
   "source": [
    "<img src=\"../insight_1.png\" />\n",
    "<img src=\"../insight_2.png\" />\n",
    "<img src=\"../insight_2.png\" />\n",
    "<img src=\"../scatter.png\" />"
   ]
  },
  {
   "cell_type": "code",
   "execution_count": null,
   "id": "0411ee94",
   "metadata": {},
   "outputs": [],
   "source": []
  }
 ],
 "metadata": {
  "kernelspec": {
   "display_name": "Python 3 (ipykernel)",
   "language": "python",
   "name": "python3"
  },
  "language_info": {
   "codemirror_mode": {
    "name": "ipython",
    "version": 3
   },
   "file_extension": ".py",
   "mimetype": "text/x-python",
   "name": "python",
   "nbconvert_exporter": "python",
   "pygments_lexer": "ipython3",
   "version": "3.9.12"
  }
 },
 "nbformat": 4,
 "nbformat_minor": 5
}
