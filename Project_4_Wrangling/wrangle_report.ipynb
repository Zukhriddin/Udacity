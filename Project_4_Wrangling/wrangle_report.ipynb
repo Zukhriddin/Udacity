{
 "cells": [
  {
   "cell_type": "markdown",
   "id": "27c322d0",
   "metadata": {},
   "source": [
    "## Description: Internal Report\n",
    "### Step 1: Gathering\n",
    "In this reported I compiled data from 'WeRateDogs' twitter page. I used three sets of data set: udacity provided archived tweetters, data on predictions and data from twitter api.\n",
    "- Archived data was simply downloaded and read using pandas 'read_csv';\n",
    "- Image prediction data was downloaded using request package;\n",
    "- Data from twitter API was downloaded directly from udacity as 'txt' file since twitter is not allowing new registration. Txt file was read as json file and necessary part of the data was extracted (tweet id, favorite and retweet counts).\n"
   ]
  },
  {
   "cell_type": "markdown",
   "id": "fd414798",
   "metadata": {},
   "source": [
    "### Step 2: Assessment\n",
    "I merged all three data sets into one along common ids, since it is much easier to look at them at once. Assessment is done visually by looking at the data frame and programmatically by using commands such as decribe, info etc.\n",
    "1. Many tweets are retweeted tweets. They are not original.\n",
    "2. Column name has erroneous names like 'such', 'life', 'light', 'by', 'all', 'my', 'an', 'O', 'just'.\n",
    "3. Column name has name as 'None'. It should be replaced with 'NaN', since it can be confused as actual name.\n",
    "4. Incorrect / mispelled dog names: 'Billl', 'Paull' and 'Karll\n",
    "5. p1, p2 and p3 are not uniform. It needs to be set to uniform case (lower or upper).\n",
    "6. p1, p2 and p3 have some words with '_'. It needs to be removed.\n",
    "7. Ratings are not uniform. The outlier rating numarators should be normalized to denominator of 10 to be comparable.\n",
    "8. Text column contains urls to the original tweet. Text columns should contain only user provided text.\n",
    "9. Columns ['doggo', 'floofer', 'pupper', 'puppo'] have values as 'None'. 'None' should be replaced to 'NaN' and these columns can be stacked into on as 'dog_stage'.\n",
    "10. Column 'timestamp' is not time format. It should be converted to timestamp type.\n",
    "11. Column 'tweet_id' column needs to be converted from a number to string value\n",
    "12. There are 181 rows with no images. Observation without images should be removed."
   ]
  },
  {
   "cell_type": "markdown",
   "id": "d1083e2f",
   "metadata": {},
   "source": [
    "### Step 3: Cleaning Data\n",
    "Upon cleaning I addressed all detected issues. Resulted in a master dataframe with 1994 observations and 26 columns."
   ]
  },
  {
   "cell_type": "markdown",
   "id": "07946383",
   "metadata": {},
   "source": [
    "### Step 4: Storing Data\n",
    "The dataframe is saved as 'twitter_archive_master.csv"
   ]
  },
  {
   "cell_type": "markdown",
   "id": "c4274f22",
   "metadata": {},
   "source": [
    "### Step 6: Analysing and Visualisation.\n",
    "1) I looked at top 50 names with highest frequency.  I used pandas bar plot to visualise it.\n",
    "\n",
    "2) I looked at descriptive statistics for favorite counts per dog stage. I used pandas dataframe describe command.\n",
    "\n",
    "3) I looked at favorite and retweet counts by month of the tweeters. I used pandas dt.month to extract month from timestamp column and plotted a barplot.\n",
    "\n",
    "4) For additional visualisation, I plotted scatter plot of favorite and retweet counts with the fit line. Fit line was calculated spearately using numpy's polyfit() module. Plot title also includes correlation coefficient (computed by pandas corr() command). Since, data suffers from outliers issues, I limited plot axes to look at representative data. I colored every dot in the plot with appropriate month of the tweet. "
   ]
  },
  {
   "cell_type": "code",
   "execution_count": null,
   "id": "7f4cb754",
   "metadata": {},
   "outputs": [],
   "source": []
  }
 ],
 "metadata": {
  "kernelspec": {
   "display_name": "Python 3 (ipykernel)",
   "language": "python",
   "name": "python3"
  },
  "language_info": {
   "codemirror_mode": {
    "name": "ipython",
    "version": 3
   },
   "file_extension": ".py",
   "mimetype": "text/x-python",
   "name": "python",
   "nbconvert_exporter": "python",
   "pygments_lexer": "ipython3",
   "version": "3.9.12"
  }
 },
 "nbformat": 4,
 "nbformat_minor": 5
}
